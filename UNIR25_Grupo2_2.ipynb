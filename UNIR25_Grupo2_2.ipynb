{
  "nbformat": 4,
  "nbformat_minor": 0,
  "metadata": {
    "colab": {
      "provenance": [],
      "include_colab_link": true
    },
    "kernelspec": {
      "name": "python3",
      "display_name": "Python 3"
    },
    "language_info": {
      "name": "python"
    }
  },
  "cells": [
    {
      "cell_type": "markdown",
      "metadata": {
        "id": "view-in-github",
        "colab_type": "text"
      },
      "source": [
        "<a href=\"https://colab.research.google.com/github/LauraYera/IPC-UNIR25-Grupo2.2/blob/Feature/UNIR25_Grupo2_2.ipynb\" target=\"_parent\"><img src=\"https://colab.research.google.com/assets/colab-badge.svg\" alt=\"Open In Colab\"/></a>"
      ]
    },
    {
      "cell_type": "code",
      "source": [
        "# Estadística y R para Ciencias de la Salud: Actividad 3\n",
        "\n",
        "## Librerias\n",
        "```{r}\n",
        "rm(list=ls())\n",
        "library(stats)\n",
        "library(ggplot2)\n",
        "library(openxlsx)\n",
        "library(tidyverse)\n",
        "```\n",
        "\n",
        "## Archivos\n",
        "```{r}\n",
        "data <- read.csv(\"Dataset expresión genes.csv\", header = TRUE)\n",
        "data <- data[, -1]\n",
        "\n",
        "any(is.na(data)) # No hay ningún dato missing.\n",
        "\n",
        "# Como el ID de los pacientes no corresponde al número de fila, vamos a añadir \"ID_\"\n",
        "# a esa variable y usarla de rownames.\n",
        "data$id <- paste0(\"ID_\", data$id)\n",
        "rownames(data) <- data$id\n",
        "\n",
        "# Además, vamos a transformar la columna \"extension (localizado / metastásico / regional)\"\n",
        "# a una variable binaria \"metastasis (si / no)\" porque es la variable resultado que nos piden\n",
        "# para el modelo de regresión logística que haremos posteriormente. Las observaciones con\n",
        "# \"extension == metastasico\" se han clasificado como \"metastasis == si\", el resto como \"no\".\n",
        "\n",
        "data$metastasis <- ifelse (data$extension == \"metastasico\", \"si\", \"no\")\n",
        "data$metastasis <- as.factor(data$metastasis)\n",
        "str(data)\n",
        "```\n",
        "\n",
        "## PCA y tablas\n",
        "```{r}\n",
        "# Realizaremos el PCA de los datos de expresión génica. Por ello, haremos una tabla\n",
        "# incluyendo sólo esas variables (son las que empiezan por \"AQ_\").\n",
        "\n",
        "data_genes <- data %>%\n",
        "  select(starts_with(\"AQ_\"))\n",
        "```\n",
        "\n",
        "\n",
        "## Gráficos descriptivos de los componentes principales\n",
        "\n",
        "\n",
        "## Tabla descriptiva de los componentes principales\n",
        "\n",
        "\n",
        "## Modelo de regresión logística"
      ],
      "metadata": {
        "id": "R05Lec_hF6Vw"
      },
      "execution_count": null,
      "outputs": []
    },
    {
      "cell_type": "markdown",
      "source": [],
      "metadata": {
        "id": "XYubZ4NzEbXM"
      }
    }
  ]
}